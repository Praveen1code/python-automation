{
 "cells": [
  {
   "cell_type": "code",
   "execution_count": null,
   "metadata": {},
   "outputs": [],
   "source": [
    "# import webbrowser\n",
    "webbrowser.open('http://google.co.kr', new=2)"
   ]
  },
  {
   "cell_type": "code",
   "execution_count": null,
   "metadata": {},
   "outputs": [],
   "source": [
    "import webbrowser\n",
    "\n",
    "import time\n",
    "\n",
    "while 1:\n",
    "    time.sleep(2*60*60)\n",
    "    webbrowser.open_new(\"https://www.youtube.com/watch?v=nSDgHBxUbVQ\")"
   ]
  },
  {
   "cell_type": "code",
   "execution_count": null,
   "metadata": {},
   "outputs": [],
   "source": [
    "#importing the module\n",
    "from pytube import YouTube\n",
    " \n",
    "#where to save\n",
    "SAVE_PATH = \"E:/\" #to_do\n",
    " \n",
    "#link of the video to be downloaded\n",
    "link=\"https://www.youtube.com/watch?v=xWOoBJUqlbI\"\n",
    " \n",
    "try:\n",
    "    #object creation using YouTube which was imported in the beginning\n",
    "    yt = YouTube(link)\n",
    "except:\n",
    "    print(\"Connection Error\") #to handle exception\n",
    " \n",
    "#filters out all the files with \"mp4\" extension\n",
    "mp4files = yt.filter('mp4')\n",
    " \n",
    "yt.set_filename('GeeksforGeeks Video') #to set the name of the file\n",
    " \n",
    "#get the video with the extension and resolution passed in the get() function\n",
    "d_video = yt.get(mp4files[-1].extension,mp4files[-1].resolution)\n",
    "try:\n",
    "    #downloading the video\n",
    "    d_video.download(SAVE_PATH)\n",
    "except:\n",
    "    print(\"Some Error!\")\n",
    "print('Task Completed!')\n"
   ]
  },
  {
   "cell_type": "code",
   "execution_count": null,
   "metadata": {},
   "outputs": [],
   "source": []
  }
 ],
 "metadata": {
  "kernelspec": {
   "display_name": "Python 3",
   "language": "python",
   "name": "python3"
  },
  "language_info": {
   "codemirror_mode": {
    "name": "ipython",
    "version": 3
   },
   "file_extension": ".py",
   "mimetype": "text/x-python",
   "name": "python",
   "nbconvert_exporter": "python",
   "pygments_lexer": "ipython3",
   "version": "3.6.4"
  }
 },
 "nbformat": 4,
 "nbformat_minor": 2
}
